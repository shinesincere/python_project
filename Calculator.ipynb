{
  "nbformat": 4,
  "nbformat_minor": 0,
  "metadata": {
    "colab": {
      "provenance": [],
      "authorship_tag": "ABX9TyO9t5cHA3mQ/rdOXrKNDaMh"
    },
    "kernelspec": {
      "name": "python3",
      "display_name": "Python 3"
    },
    "language_info": {
      "name": "python"
    }
  },
  "cells": [
    {
      "cell_type": "code",
      "source": [
        "def calculate_loan_payment():\n",
        "  while True:\n",
        "    principal = input(\"Enter the loan amount: (or Q for Quit) \")\n",
        "    if principal == 'q': break\n",
        "    principal = float(principal)\n",
        "    yearly_interest_rate = float(input(\"Enter the annual interest rate: \"))   # annual percentage ratei\n",
        "    number_years = int(input(\"Enter the number of years: \"))\n",
        "\n",
        "    monthly_interest_rate = yearly_interest_rate/1200\n",
        "    number_months = number_years*12\n",
        "    monthly_payment = principal * monthly_interest_rate/(1-(1+monthly_interest_rate)**(-number_months))\n",
        "    print(f\"The monthly payment is: {monthly_payment:.2f} \\n\") \n",
        "\n",
        "calculate_loan_payment()    "
      ],
      "metadata": {
        "colab": {
          "base_uri": "https://localhost:8080/"
        },
        "id": "e9s7ywpvhdum",
        "outputId": "ed0cd73e-77e9-4964-a4b1-3dec49e36cfb"
      },
      "execution_count": 8,
      "outputs": [
        {
          "name": "stdout",
          "output_type": "stream",
          "text": [
            "Enter the loan amount: (or Q for Quit) 20000\n",
            "Enter the annual interest rate: 3\n",
            "Enter the number of years: 5\n",
            "The monthly payment is: 359.37 \n",
            "\n",
            "Enter the loan amount: (or Q for Quit) 200000\n",
            "Enter the annual interest rate: 3\n",
            "Enter the number of years: 5\n",
            "The monthly payment is: 3593.74 \n",
            "\n",
            "Enter the loan amount: (or Q for Quit) q\n"
          ]
        }
      ]
    },
    {
      "cell_type": "code",
      "execution_count": 12,
      "metadata": {
        "colab": {
          "base_uri": "https://localhost:8080/"
        },
        "id": "PVWs1eg8_4Pa",
        "outputId": "9b6763e5-7e2f-4a10-a02e-8bb583b38c24"
      },
      "outputs": [
        {
          "output_type": "stream",
          "name": "stdout",
          "text": [
            "Enter A for addition, S for subtraction, M for multiplication, D for division, E for exit\n",
            "Enter your choice: a\n",
            "Enter your first number: 1\n",
            "Enter your second number: 2\n",
            "You entered A, 1, 2\n",
            "1 + 2 = 3\n",
            "\n",
            "Enter your choice: s\n",
            "Enter your first number: 1\n",
            "Enter your second number: 2\n",
            "You entered S, 1, 2\n",
            "1 - 2 = -1\n",
            "\n",
            "Enter your choice: m\n",
            "Enter your first number: 1\n",
            "Enter your second number: 2\n",
            "You entered M, 1, 2\n",
            "1 * 2 = 2\n",
            "\n",
            "Enter your choice: d\n",
            "Enter your first number except 0: 0\n",
            "Enter your first number except 0: 1\n",
            "Enter your second number except 0: 0\n",
            "Enter your second number except 0: 2\n",
            "You entered D, 1, 2\n",
            "1 / 2 = 0.5\n",
            "\n",
            "Enter your choice: q\n",
            "You entered Q\n"
          ]
        }
      ],
      "source": [
        "def add(a, b): \n",
        "  print(f\"{a} + {b} = {a + b}\\n\")\n",
        "\n",
        "def sub(a, b): \n",
        "  print(f\"{a} - {b} = {a - b}\\n\")\n",
        "\n",
        "def mul(a, b): \n",
        "  print(f\"{a} * {b} = {a * b}\\n\")\n",
        "\n",
        "def div(a, b):\n",
        "  print(f\"{a} / {b} = {a / b}\\n\")\n",
        "\n",
        "def get_valid_input(x):\n",
        "  prompt = f\"Enter your {x} number except 0: \"\n",
        "  val = int(input(prompt))\n",
        "  while val == 0:\n",
        "    val = int(input(prompt))\n",
        "  return val\n",
        "\n",
        "def get_input(x):\n",
        "  return int(input(f\"Enter your {x} number: \"))\n",
        "\n",
        "def confirm_input(*args):\n",
        "  args = [str(arg) if isinstance(arg, (int)) else arg for arg in args]\n",
        "  args[0] = args[0].upper()\n",
        "  print(f\"You entered {', '.join(args)}\")\n",
        "\n",
        "def caculate():\n",
        "  print(\"Enter A for addition, S for subtraction, M for multiplication, D for division, E for exit\")\n",
        "\n",
        "  while True:\n",
        "    choice = input(\"Enter your choice: \")\n",
        "\n",
        "    if choice == \"A\" or choice == \"a\":   \n",
        "      n1 = get_input(\"first\")\n",
        "      n2 = get_input(\"second\")\n",
        "      confirm_input(choice, n1, n2)\n",
        "      add(n1, n2)\n",
        "\n",
        "    elif choice == \"S\" or choice == \"s\":\n",
        "      n1 = get_input(\"first\")\n",
        "      n2 = get_input(\"second\")\n",
        "      confirm_input(choice, n1, n2)\n",
        "      sub(n1, n2)\n",
        "\n",
        "    elif choice == \"M\" or choice == \"m\":\n",
        "      n1 = get_input(\"first\")\n",
        "      n2 = get_input(\"second\")\n",
        "      confirm_input(choice, n1, n2)\n",
        "      mul(n1, n2)\n",
        "\n",
        "    elif choice == \"D\" or choice == \"d\":    \n",
        "      n1 = get_valid_input(\"first\")\n",
        "      n2 = get_valid_input(\"second\")   \n",
        "      confirm_input(choice, n1, n2)\n",
        "      div(n1, n2)\n",
        "\n",
        "    elif choice == \"Q\" or choice == \"q\":\n",
        "      confirm_input(choice)\n",
        "      break\n",
        "\n",
        "caculate()"
      ]
    }
  ]
}