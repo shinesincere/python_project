{
  "nbformat": 4,
  "nbformat_minor": 0,
  "metadata": {
    "colab": {
      "provenance": [],
      "authorship_tag": "ABX9TyNXZZYSZm1rDiv+o2brse1K"
    },
    "kernelspec": {
      "name": "python3",
      "display_name": "Python 3"
    },
    "language_info": {
      "name": "python"
    }
  },
  "cells": [
    {
      "cell_type": "code",
      "source": [
        "def add(a, b): \n",
        "  print(f\"{a} + {b} = {a + b}\\n\")\n",
        "\n",
        "def sub(a, b): \n",
        "  print(f\"{a} - {b} = {a - b}\\n\")\n",
        "\n",
        "def mul(a, b): \n",
        "  print(f\"{a} * {b} = {a * b}\\n\")\n",
        "\n",
        "def div(a, b):\n",
        "  print(f\"{a} / {b} = {a / b}\\n\")\n",
        "\n",
        "def get_valid_input(x):\n",
        "  prompt = f\"Enter your {x} number except 0: \"\n",
        "  val = int(input(prompt))\n",
        "  while val == 0:\n",
        "    val = int(input(prompt))\n",
        "  return val\n",
        "\n",
        "def get_input(x):\n",
        "  return int(input(f\"Enter your {x} number: \"))\n",
        "\n",
        "def confirm_input(*args):\n",
        "  args = [str(arg) if isinstance(arg, (int)) else arg for arg in args]\n",
        "  args[0] = args[0].upper()\n",
        "  print(f\"You entered {', '.join(args)}\")"
      ],
      "metadata": {
        "id": "rKv5vEvgT7vp"
      },
      "execution_count": 21,
      "outputs": []
    },
    {
      "cell_type": "code",
      "execution_count": 22,
      "metadata": {
        "colab": {
          "base_uri": "https://localhost:8080/"
        },
        "id": "PVWs1eg8_4Pa",
        "outputId": "0d4eb4db-f2b8-4c92-8f81-b9f6408845bf"
      },
      "outputs": [
        {
          "output_type": "stream",
          "name": "stdout",
          "text": [
            "Enter A for addition, S for subtraction, M for multiplication, D for division, E for exit\n",
            "Enter your choice: a\n",
            "Enter your first number: 1\n",
            "Enter your second number: 2\n",
            "You entered A, 1, 2\n",
            "1 + 2 = 3\n",
            "\n",
            "Enter your choice: s\n",
            "Enter your first number: 1\n",
            "Enter your second number: 2\n",
            "You entered S, 1, 2\n",
            "1 - 2 = -1\n",
            "\n",
            "Enter your choice: m\n",
            "Enter your first number: 1\n",
            "Enter your second number: 2\n",
            "You entered M, 1, 2\n",
            "1 * 2 = 2\n",
            "\n",
            "Enter your choice: d\n",
            "Enter your first number except 0: 0\n",
            "Enter your first number except 0: 1\n",
            "Enter your second number except 0: 0\n",
            "Enter your second number except 0: 2\n",
            "You entered D, 1, 2\n",
            "1 / 2 = 0.5\n",
            "\n",
            "Enter your choice: e\n",
            "You entered E\n"
          ]
        }
      ],
      "source": [
        "print(\"Enter A for addition, S for subtraction, M for multiplication, D for division, E for exit\")\n",
        "\n",
        "while True:\n",
        "  choice = input(\"Enter your choice: \")\n",
        "\n",
        "  if choice == \"A\" or choice == \"a\":   \n",
        "    n1 = get_input(\"first\")\n",
        "    n2 = get_input(\"second\")\n",
        "    confirm_input(choice, n1, n2)\n",
        "    add(n1, n2)\n",
        "\n",
        "  elif choice == \"S\" or choice == \"s\":\n",
        "    n1 = get_input(\"first\")\n",
        "    n2 = get_input(\"second\")\n",
        "    confirm_input(choice, n1, n2)\n",
        "    sub(n1, n2)\n",
        "\n",
        "  elif choice == \"M\" or choice == \"m\":\n",
        "    n1 = get_input(\"first\")\n",
        "    n2 = get_input(\"second\")\n",
        "    confirm_input(choice, n1, n2)\n",
        "    mul(n1, n2)\n",
        "\n",
        "  elif choice == \"D\" or choice == \"d\":    \n",
        "    n1 = get_valid_input(\"first\")\n",
        "    n2 = get_valid_input(\"second\")   \n",
        "    confirm_input(choice, n1, n2)\n",
        "    div(n1, n2)\n",
        "\n",
        "  elif choice == \"E\" or choice == \"e\":\n",
        "    confirm_input(choice)\n",
        "    break"
      ]
    }
  ]
}