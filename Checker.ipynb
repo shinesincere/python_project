{
  "nbformat": 4,
  "nbformat_minor": 0,
  "metadata": {
    "colab": {
      "provenance": [],
      "authorship_tag": "ABX9TyOV2V1DAtCVuNPhOYFjtpY8"
    },
    "kernelspec": {
      "name": "python3",
      "display_name": "Python 3"
    },
    "language_info": {
      "name": "python"
    }
  },
  "cells": [
    {
      "cell_type": "code",
      "execution_count": 1,
      "metadata": {
        "colab": {
          "base_uri": "https://localhost:8080/"
        },
        "id": "mBK_IsjS0wJe",
        "outputId": "bd7f107f-9842-4342-cb0a-2c54a5272d68"
      },
      "outputs": [
        {
          "output_type": "stream",
          "name": "stdout",
          "text": [
            "2000 is a leap year. 2004 is a leap year. 2008 is a leap year. 2012 is a leap year. 2016 is a leap year. 2020 is a leap year.\n",
            "2002 isn't a leap year. 2006 isn't a leap year. 2010 isn't a leap year. 2014 isn't a leap year. 2018 isn't a leap year. 2022 isn't a leap year.\n"
          ]
        }
      ],
      "source": [
        "def check_leapyear(year):\n",
        "    year = int(year)\n",
        "    res = year % 4 == 0 and (year % 100 != 0 or year % 400 == 0)\n",
        "    return f\"{year} is a leap year.\" if res == True else f\"{year} isn't a leap year.\"\n",
        "\n",
        "print(check_leapyear(2000), check_leapyear(2004), check_leapyear(2008), check_leapyear(2012), check_leapyear(2016), check_leapyear(2020))      \n",
        "print(check_leapyear(2002), check_leapyear(2006), check_leapyear(2010), check_leapyear(2014), check_leapyear(2018), check_leapyear(2022))     "
      ]
    },
    {
      "cell_type": "code",
      "source": [
        "from urllib import request\n",
        "from urllib.error import URLError, HTTPError\n",
        "\n",
        "def check_connectivity(url):\n",
        "    try:\n",
        "        res = request.urlopen(url).getcode()\n",
        "        return f\"Connected to {url} \" if res == 200 else f\"Status code: {res} \"\n",
        "    except HTTPError as e:\n",
        "        return f\"HTTPError: {e.code} \"\n",
        "    except URLError as e:\n",
        "        return f\"URLError: {e.reason} \"    \n",
        "    except Exception as e:\n",
        "        return f\"Exception: {e}\"\n",
        "\n",
        "print(check_connectivity(\"google.com\"))\n",
        "print(check_connectivity(\"www.google.com\"))\n",
        "print(check_connectivity(\"https://google.com\"))\n",
        "print(check_connectivity(\"https://www.google.com\"))\n",
        "print(check_connectivity(\"https://chat.openai.com/chat\"))\n",
        "print(check_connectivity(\"https://c.com\"))"
      ],
      "metadata": {
        "colab": {
          "base_uri": "https://localhost:8080/"
        },
        "id": "YvwQLQwZ7P9p",
        "outputId": "ffc94b1b-66ef-43fa-a7ac-2e85084dd664"
      },
      "execution_count": 31,
      "outputs": [
        {
          "output_type": "stream",
          "name": "stdout",
          "text": [
            "Exception: unknown url type: 'google.com'\n",
            "Exception: unknown url type: 'www.google.com'\n",
            "Connected to https://google.com \n",
            "Connected to https://www.google.com \n",
            "HTTPError: 403 \n",
            "URLError: [Errno -2] Name or service not known \n"
          ]
        }
      ]
    }
  ]
}