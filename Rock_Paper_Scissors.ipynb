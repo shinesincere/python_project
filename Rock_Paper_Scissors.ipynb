{
  "nbformat": 4,
  "nbformat_minor": 0,
  "metadata": {
    "colab": {
      "provenance": [],
      "authorship_tag": "ABX9TyOIcUjqnbkPLhf1/95YhGuA"
    },
    "kernelspec": {
      "name": "python3",
      "display_name": "Python 3"
    },
    "language_info": {
      "name": "python"
    }
  },
  "cells": [
    {
      "cell_type": "code",
      "source": [
        "import random"
      ],
      "metadata": {
        "id": "RSoey_Sd8lVV"
      },
      "execution_count": 2,
      "outputs": []
    },
    {
      "cell_type": "code",
      "execution_count": null,
      "metadata": {
        "colab": {
          "base_uri": "https://localhost:8080/"
        },
        "id": "ZEzrrXPngRkL",
        "outputId": "8e9b6bad-1e71-4d1c-a8e2-417cdf0197cd"
      },
      "outputs": [
        {
          "output_type": "stream",
          "name": "stdout",
          "text": [
            "Enter R for Rock, P for Paper, or S for Scissors: s\n",
            "You win! Scissors beats Paper.\n"
          ]
        }
      ],
      "source": [
        "def play_rps():\n",
        "  choices = {\"r\": \"Rock\", \"p\": \"Paper\", \"s\": \"Scissors\"}\n",
        "  user_choice = input(f\"Enter R for {choices['r']}, P for {choices['p']}, or S for {choices['s']}: \").lower()\n",
        "\n",
        "  if user_choice not in choices:  # 에러있으면 경고후 다시 함수를 돌림\n",
        "    print(\"Invalid choice, please try again.\")\n",
        "    play_rps()   \n",
        "  else:   # 에러가 없으면 예정된 코드를 돌림\n",
        "    comp_choice = random.choice([k for k in choices.keys()])\n",
        "    if user_choice == comp_choice:\n",
        "      print(\"It's a Tie!\")\n",
        "    elif user_choice == \"r\" and comp_choice == \"s\":\n",
        "      print(f\"You win! {choices['r']} beats {choices['s']}.\")\n",
        "    elif user_choice == \"p\" and comp_choice == \"r\":\n",
        "      print(f\"You win! {choices['p']} beats {choices['r']}.\")\n",
        "    elif user_choice == \"s\" and comp_choice == \"p\":\n",
        "      print(f\"You win! {choices['s']} beats {choices['p']}.\")\n",
        "    else:\n",
        "      print(f\"You lose! {choices[comp_choice]} beats {choices[user_choice]}.\")\n",
        "\n",
        "play_rps()"
      ]
    },
    {
      "cell_type": "code",
      "source": [
        "def keep_playing_rps():\n",
        "    u_score = 0   # has to be outside of while loop\n",
        "    c_score = 0\n",
        "    options = {\"r\": \"rock\", \"p\":\"paper\", \"s\":\"scissors\"}\n",
        "    \n",
        "    def print_result(u_input, c_input, result):\n",
        "        print(f\"user input: {options[u_input]}\")\n",
        "        print(f\"computer input: {options[c_input]}\")\n",
        "        print(result)\n",
        "\n",
        "    while True:\n",
        "        u_input = input(f\"Choose r for {options['r']}, p for {options['p']}, s for {options['s']} or e for exit: \")\n",
        "        c_input = random.choice([e for e in options.keys()])\n",
        "\n",
        "        if u_input == 'e':   # break first and continue second. if not keeps looping\n",
        "            print(f\"user score: {u_score}\")\n",
        "            print(f\"computer score: {c_score}\")\n",
        "            print(\"Game ended\")\n",
        "            break\n",
        "\n",
        "        elif u_input not in options:\n",
        "            print(\"Invalid input, please try again. \\n\")\n",
        "            continue\n",
        "\n",
        "        elif u_input ==  c_input:\n",
        "            print_result(u_input, c_input, \"It's a tie.\\n\")\n",
        "\n",
        "        elif (u_input == 'r' and c_input == 'p') \\\n",
        "            or (u_input == 'p' and c_input == 's') \\\n",
        "            or (u_input == 's' and c_input == 'r'): \n",
        "            c_score += 1\n",
        "            print_result(u_input, c_input, \"Computer wins. \\n\")\n",
        "\n",
        "        elif (u_input == 'r' and c_input == 's') \\\n",
        "            or (u_input == 'p' and c_input == 'r') \\\n",
        "            or (u_input == 's' and c_input == 'p'): \n",
        "            u_score += 1 \n",
        "            print_result(u_input, c_input, \"You win. \\n\")\n",
        "\n",
        "keep_playing_rps()"
      ],
      "metadata": {
        "colab": {
          "base_uri": "https://localhost:8080/"
        },
        "id": "BJQ0NkDW8pN6",
        "outputId": "45546cde-6aa0-4764-f26b-8a2db9d89b7f"
      },
      "execution_count": 15,
      "outputs": [
        {
          "output_type": "stream",
          "name": "stdout",
          "text": [
            "Choose r for rock, p for paper, s for scissors or e for exit: q\n",
            "Invalid input, please try again. \n",
            "\n",
            "Choose r for rock, p for paper, s for scissors or e for exit: r\n",
            "user input: rock\n",
            "computer input: rock\n",
            "It's a tie.\n",
            "\n",
            "Choose r for rock, p for paper, s for scissors or e for exit: p\n",
            "user input: paper\n",
            "computer input: scissors\n",
            "Computer wins. \n",
            "\n",
            "Choose r for rock, p for paper, s for scissors or e for exit: s\n",
            "user input: scissors\n",
            "computer input: paper\n",
            "You win. \n",
            "\n",
            "Choose r for rock, p for paper, s for scissors or e for exit: e\n",
            "user score: 1\n",
            "computer score: 1\n",
            "Game ended\n"
          ]
        }
      ]
    }
  ]
}