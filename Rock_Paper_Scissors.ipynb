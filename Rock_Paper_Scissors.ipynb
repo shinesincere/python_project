{
  "nbformat": 4,
  "nbformat_minor": 0,
  "metadata": {
    "colab": {
      "provenance": [],
      "authorship_tag": "ABX9TyOWAz1KshSpRJMu23tEAypS",
      "include_colab_link": true
    },
    "kernelspec": {
      "name": "python3",
      "display_name": "Python 3"
    },
    "language_info": {
      "name": "python"
    }
  },
  "cells": [
    {
      "cell_type": "markdown",
      "metadata": {
        "id": "view-in-github",
        "colab_type": "text"
      },
      "source": [
        "<a href=\"https://colab.research.google.com/github/shinesincere/python_project/blob/main/Rock_Paper_Scissors.ipynb\" target=\"_parent\"><img src=\"https://colab.research.google.com/assets/colab-badge.svg\" alt=\"Open In Colab\"/></a>"
      ]
    },
    {
      "cell_type": "code",
      "execution_count": 6,
      "metadata": {
        "colab": {
          "base_uri": "https://localhost:8080/"
        },
        "id": "ZEzrrXPngRkL",
        "outputId": "8e9b6bad-1e71-4d1c-a8e2-417cdf0197cd"
      },
      "outputs": [
        {
          "output_type": "stream",
          "name": "stdout",
          "text": [
            "Enter R for Rock, P for Paper, or S for Scissors: s\n",
            "You win! Scissors beats Paper.\n"
          ]
        }
      ],
      "source": [
        "import random\n",
        "\n",
        "def play_rps():\n",
        "  choices = {\"r\": \"Rock\", \"p\": \"Paper\", \"s\": \"Scissors\"}\n",
        "  user_choice = input(f\"Enter R for {choices['r']}, P for {choices['p']}, or S for {choices['s']}: \").lower()\n",
        "\n",
        "  if user_choice not in choices:  # 에러있으면 경고후 다시 함수를 돌림\n",
        "    print(\"Invalid choice, please try again.\")\n",
        "    play_rps()   \n",
        "  else:   # 에러가 없으면 예정된 코드를 돌림\n",
        "    comp_choice = random.choice([k for k in choices.keys()])\n",
        "    if user_choice == comp_choice:\n",
        "      print(\"It's a Tie!\")\n",
        "    elif user_choice == \"r\" and comp_choice == \"s\":\n",
        "      print(f\"You win! {choices['r']} beats {choices['s']}.\")\n",
        "    elif user_choice == \"p\" and comp_choice == \"r\":\n",
        "      print(f\"You win! {choices['p']} beats {choices['r']}.\")\n",
        "    elif user_choice == \"s\" and comp_choice == \"p\":\n",
        "      print(f\"You win! {choices['s']} beats {choices['p']}.\")\n",
        "    else:\n",
        "      print(f\"You lose! {choices[comp_choice]} beats {choices[user_choice]}.\")\n",
        "\n",
        "play_rps()"
      ]
    }
  ]
}