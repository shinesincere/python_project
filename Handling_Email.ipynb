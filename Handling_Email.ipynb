{
  "nbformat": 4,
  "nbformat_minor": 0,
  "metadata": {
    "colab": {
      "provenance": [],
      "mount_file_id": "1e-zYGcAWozx8l1_oUlBJRSMXq2S3YdNc",
      "authorship_tag": "ABX9TyPnc9CkRvRV+8Eiu+TxIJ9s"
    },
    "kernelspec": {
      "name": "python3",
      "display_name": "Python 3"
    },
    "language_info": {
      "name": "python"
    }
  },
  "cells": [
    {
      "cell_type": "code",
      "source": [
        "# generated from https://myaccount.google.com/apppasswords\n",
        "# stored to '/content/drive/MyDrive/Colab Notebooks/_Github Project/email_sending'\n",
        "\n",
        "def getting_drive_filedata():\n",
        "  from google.colab import drive\n",
        "  import sys\n",
        "  drive.mount('/content/drive/')\n",
        "  sys.path.append('/content/drive/MyDrive/Colab Notebooks/_Github Project/')\n",
        "  from email_sending import Password\n",
        "  return Password\n",
        "\n",
        "def sending_automatic_email(password, sender, receiver, subject, body):\n",
        "  from email.message import EmailMessage\n",
        "  import ssl, smtplib\n",
        "  em = EmailMessage()\n",
        "  em[\"From\"] = sender\n",
        "  em[\"To\"] = receiver\n",
        "  em[\"Subject\"] = subject\n",
        "  em.set_content(body)\n",
        "  context = ssl.create_default_context()\n",
        "  with smtplib.SMTP_SSL(\"smtp.gmail.com\", 465, context=context) as smtp:\n",
        "    smtp.login(sender, password)\n",
        "    smtp.sendmail(sender, receiver, em.as_string())\n",
        "  print('done')\n",
        "\n",
        "def sending_email():\n",
        "  Password = getting_drive_filedata() \n",
        "  From = \"shinesincere@gmail.com\"\n",
        "  To = \"shinesincere@gmail.com\"\n",
        "  Subject = \"Testing\"\n",
        "  Body = \"\"\"\n",
        "  This is to check if ssl and smtplib works for sending email\n",
        "  \"\"\"\n",
        "  sending_automatic_email(Password, From, To, Subject, Body)\n",
        "\n",
        "sending_email()  "
      ],
      "metadata": {
        "colab": {
          "base_uri": "https://localhost:8080/"
        },
        "id": "-cBvdqRnp6EE",
        "outputId": "7023fb88-f9d8-4a20-fad8-0a9a5009bc67"
      },
      "execution_count": 38,
      "outputs": [
        {
          "output_type": "stream",
          "name": "stdout",
          "text": [
            "Drive already mounted at /content/drive/; to attempt to forcibly remount, call drive.mount(\"/content/drive/\", force_remount=True).\n",
            "done\n"
          ]
        }
      ]
    },
    {
      "cell_type": "code",
      "source": [
        "def slicing_email_address(address):\n",
        "  username, address = address.split(\"@\")\n",
        "  domain, extension = address.split(\".\")\n",
        "  print(\"Username: \", username, \", Domain: \", domain, \", Extension: \", extension, \"\\n\")\n",
        "\n",
        "def checking_email():\n",
        "  while True:\n",
        "    address = input(\"Enter your email address(or Q to quit): \")\n",
        "    if address == 'q':\n",
        "      break\n",
        "    slicing_email_address(address)  \n",
        "\n",
        "checking_email()"
      ],
      "metadata": {
        "colab": {
          "base_uri": "https://localhost:8080/"
        },
        "id": "9Lc9KNL9YaXw",
        "outputId": "681a7ef1-ca5e-413a-e487-7e5463a59f01"
      },
      "execution_count": 39,
      "outputs": [
        {
          "name": "stdout",
          "output_type": "stream",
          "text": [
            "Enter your email address(or Q to quit): amyadams@gmail.com\n",
            "Username:  amyadams , Domain:  gmail , Extension:  com \n",
            "\n",
            "Enter your email address(or Q to quit): benbonds@gmail.com\n",
            "Username:  benbonds , Domain:  gmail , Extension:  com \n",
            "\n",
            "Enter your email address(or Q to quit): cyncanes@gmail.com\n",
            "Username:  cyncanes , Domain:  gmail , Extension:  com \n",
            "\n",
            "Enter your email address(or Q to quit): q\n"
          ]
        }
      ]
    }
  ]
}