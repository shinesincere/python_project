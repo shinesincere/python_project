{
  "nbformat": 4,
  "nbformat_minor": 0,
  "metadata": {
    "colab": {
      "provenance": [],
      "authorship_tag": "ABX9TyPqt/ZexF4Q2JUyKRuLgOxB"
    },
    "kernelspec": {
      "name": "python3",
      "display_name": "Python 3"
    },
    "language_info": {
      "name": "python"
    }
  },
  "cells": [
    {
      "cell_type": "code",
      "execution_count": 1,
      "metadata": {
        "id": "Whm4tcfKdjhu"
      },
      "outputs": [],
      "source": [
        "from data import From, To, Password\n",
        "from email.message import EmailMessage\n",
        "import ssl, smtplib"
      ]
    },
    {
      "cell_type": "code",
      "source": [
        "Subject = \"Don't forget to subscribe\"\n",
        "Body = \"\"\"\n",
        "When you watch a video, please hit subscribe\n",
        "\"\"\""
      ],
      "metadata": {
        "id": "hWIFS38-h0PE"
      },
      "execution_count": 2,
      "outputs": []
    },
    {
      "cell_type": "code",
      "source": [
        "em = EmailMessage()\n",
        "em[\"From\"] = From\n",
        "em[\"To\"] = To\n",
        "em[\"Subject\"] = Subject\n",
        "em.set_content(Body)"
      ],
      "metadata": {
        "id": "30MBAHhjitM6"
      },
      "execution_count": 3,
      "outputs": []
    },
    {
      "cell_type": "code",
      "source": [
        "context = ssl.create_default_context()\n",
        "with smtplib.SMTP_SSL(\"smtp.gmail.com\", 465, context=context) as smtp:\n",
        "  smtp.login(From, Password)\n",
        "  smtp.sendmail(From, To, em.as_string())"
      ],
      "metadata": {
        "id": "P4a9HSIHjrrq"
      },
      "execution_count": 4,
      "outputs": []
    }
  ]
}