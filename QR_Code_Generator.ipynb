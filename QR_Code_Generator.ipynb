{
  "nbformat": 4,
  "nbformat_minor": 0,
  "metadata": {
    "colab": {
      "provenance": [],
      "authorship_tag": "ABX9TyPpAD5cRgXFdyng8knhsJZT"
    },
    "kernelspec": {
      "name": "python3",
      "display_name": "Python 3"
    },
    "language_info": {
      "name": "python"
    }
  },
  "cells": [
    {
      "cell_type": "code",
      "execution_count": 1,
      "metadata": {
        "colab": {
          "base_uri": "https://localhost:8080/"
        },
        "id": "9XsGK6vhbQ5v",
        "outputId": "94246fbd-1dca-49ae-e162-06c88aeab166"
      },
      "outputs": [
        {
          "output_type": "stream",
          "name": "stdout",
          "text": [
            "Looking in indexes: https://pypi.org/simple, https://us-python.pkg.dev/colab-wheels/public/simple/\n",
            "Collecting qrcode\n",
            "  Downloading qrcode-7.3.1.tar.gz (43 kB)\n",
            "\u001b[2K     \u001b[90m━━━━━━━━━━━━━━━━━━━━━━━━━━━━━━━━━━━━━━━━\u001b[0m \u001b[32m43.5/43.5 KB\u001b[0m \u001b[31m2.0 MB/s\u001b[0m eta \u001b[36m0:00:00\u001b[0m\n",
            "\u001b[?25h  Preparing metadata (setup.py) ... \u001b[?25l\u001b[?25hdone\n",
            "Collecting Image\n",
            "  Downloading image-1.5.33.tar.gz (15 kB)\n",
            "  Preparing metadata (setup.py) ... \u001b[?25l\u001b[?25hdone\n",
            "Requirement already satisfied: pillow in /usr/local/lib/python3.8/dist-packages (from Image) (7.1.2)\n",
            "Collecting django\n",
            "  Downloading Django-4.1.5-py3-none-any.whl (8.1 MB)\n",
            "\u001b[2K     \u001b[90m━━━━━━━━━━━━━━━━━━━━━━━━━━━━━━━━━━━━━━━━\u001b[0m \u001b[32m8.1/8.1 MB\u001b[0m \u001b[31m19.5 MB/s\u001b[0m eta \u001b[36m0:00:00\u001b[0m\n",
            "\u001b[?25hRequirement already satisfied: six in /usr/local/lib/python3.8/dist-packages (from Image) (1.15.0)\n",
            "Requirement already satisfied: sqlparse>=0.2.2 in /usr/local/lib/python3.8/dist-packages (from django->Image) (0.4.3)\n",
            "Collecting backports.zoneinfo\n",
            "  Downloading backports.zoneinfo-0.2.1-cp38-cp38-manylinux1_x86_64.whl (74 kB)\n",
            "\u001b[2K     \u001b[90m━━━━━━━━━━━━━━━━━━━━━━━━━━━━━━━━━━━━━━━━\u001b[0m \u001b[32m74.0/74.0 KB\u001b[0m \u001b[31m5.2 MB/s\u001b[0m eta \u001b[36m0:00:00\u001b[0m\n",
            "\u001b[?25hCollecting asgiref<4,>=3.5.2\n",
            "  Downloading asgiref-3.6.0-py3-none-any.whl (23 kB)\n",
            "Building wheels for collected packages: qrcode, Image\n",
            "  Building wheel for qrcode (setup.py) ... \u001b[?25l\u001b[?25hdone\n",
            "  Created wheel for qrcode: filename=qrcode-7.3.1-py3-none-any.whl size=40400 sha256=c1c803f416801215838cda8d8d6828036cc3722844b17e3dbb46820dc5517558\n",
            "  Stored in directory: /root/.cache/pip/wheels/35/fd/04/2768886c56207acee0d6dc6b9bd5d06dac63a810f0c0a42516\n",
            "  Building wheel for Image (setup.py) ... \u001b[?25l\u001b[?25hdone\n",
            "  Created wheel for Image: filename=image-1.5.33-py2.py3-none-any.whl size=19494 sha256=775eb949340f9c9940890ce6c23f6bc598a5bc896ab11dd9960b922c163fc3ae\n",
            "  Stored in directory: /root/.cache/pip/wheels/ac/30/5c/a8b33888bea3507eda7c924a143d34b2390d2ca5b145b327b5\n",
            "Successfully built qrcode Image\n",
            "Installing collected packages: qrcode, backports.zoneinfo, asgiref, django, Image\n",
            "Successfully installed Image-1.5.33 asgiref-3.6.0 backports.zoneinfo-0.2.1 django-4.1.5 qrcode-7.3.1\n"
          ]
        }
      ],
      "source": [
        "!pip install qrcode Image "
      ]
    },
    {
      "cell_type": "code",
      "source": [
        "import qrcode \n",
        "\n",
        "def generate_qrcode(text):\n",
        "  qr = qrcode.QRCode(box_size=10, border=4, version=1, error_correction=qrcode.constants.ERROR_CORRECT_L)\n",
        "  qr.add_data(text)\n",
        "  qr.make(fit=True)\n",
        "  img = qr.make_image(fill_color=\"black\", back_color=\"white\")\n",
        "  img.save(f\"{text}.png\")\n",
        "  print(f\"{text}.png generated\")\n",
        "\n",
        "target = input('Enter the target: ')\n",
        "generate_qrcode(target)"
      ],
      "metadata": {
        "colab": {
          "base_uri": "https://localhost:8080/"
        },
        "id": "gzX-OeKsbeCp",
        "outputId": "fee23390-a776-4872-e420-4f3ca305564d"
      },
      "execution_count": 9,
      "outputs": [
        {
          "output_type": "stream",
          "name": "stdout",
          "text": [
            "Enter the target: amyadams@gmail.com\n",
            "amyadams@gmail.com.png generated\n"
          ]
        }
      ]
    },
    {
      "cell_type": "code",
      "source": [
        "# save qrcode to image"
      ],
      "metadata": {
        "id": "pmI4RzVvbkYU"
      },
      "execution_count": null,
      "outputs": []
    },
    {
      "cell_type": "code",
      "source": [
        "# run the function"
      ],
      "metadata": {
        "id": "olhM74X3bqWg"
      },
      "execution_count": null,
      "outputs": []
    }
  ]
}