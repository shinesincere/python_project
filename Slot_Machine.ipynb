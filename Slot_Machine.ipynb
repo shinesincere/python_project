{
  "nbformat": 4,
  "nbformat_minor": 0,
  "metadata": {
    "colab": {
      "provenance": [],
      "authorship_tag": "ABX9TyP1hkfyyl68eN3tyBhKscPW",
      "include_colab_link": true
    },
    "kernelspec": {
      "name": "python3",
      "display_name": "Python 3"
    },
    "language_info": {
      "name": "python"
    }
  },
  "cells": [
    {
      "cell_type": "markdown",
      "metadata": {
        "id": "view-in-github",
        "colab_type": "text"
      },
      "source": [
        "<a href=\"https://colab.research.google.com/github/shinesincere/python_project/blob/main/Slot_Machine.ipynb\" target=\"_parent\"><img src=\"https://colab.research.google.com/assets/colab-badge.svg\" alt=\"Open In Colab\"/></a>"
      ]
    },
    {
      "cell_type": "code",
      "source": [
        "import random as rd\n",
        "import numpy as np\n",
        "\n",
        "ROWS = 3\n",
        "COLS = 3\n",
        "MAX_LINES = 3\n",
        "MAX_BET = 100\n",
        "MIN_BET = 1\n",
        "SYMBOL_COUNT = {'A': 2, 'B': 4, 'C': 6, 'D': 8}\n",
        "SYMBOL_SPRAY = {'A': 5, 'B': 4, 'C': 3, 'D': 2}"
      ],
      "metadata": {
        "id": "ypkWZ1XBbQh3"
      },
      "execution_count": 9,
      "outputs": []
    },
    {
      "cell_type": "code",
      "source": [
        "def deposit():\n",
        "  while True:\n",
        "    amount = input(\"How much would you like to deposit? $\")\n",
        "    if amount.isdecimal(): \n",
        "      amount = int(amount)\n",
        "      if amount > 0:   \n",
        "        break\n",
        "      else: print(\"Please enter a number bigger than 0\")\n",
        "    else: print(\"Please enter a number\")\n",
        "  return amount "
      ],
      "metadata": {
        "id": "AtW6SZ-VbSmx"
      },
      "execution_count": 3,
      "outputs": []
    },
    {
      "cell_type": "code",
      "source": [
        "def get_lines():\n",
        "  while True:\n",
        "    lines = input(f\"Enter the number of lines to bet on between 1 and {MAX_LINES}: \")\n",
        "    if lines.isdecimal():\n",
        "      lines = int(lines)\n",
        "      if 0 <= lines <= MAX_LINES:\n",
        "        break\n",
        "      else: print(\"Please enter a number of lines bigger than 0\")\n",
        "    else: print(\"Please enter a number of lines\")\n",
        "  return lines  "
      ],
      "metadata": {
        "id": "3ZT8KoSmbXLe"
      },
      "execution_count": 4,
      "outputs": []
    },
    {
      "cell_type": "code",
      "source": [
        "def get_bet():\n",
        "  while True:\n",
        "    amount = input(\"How much would you like to bet on each line? $\")\n",
        "    if amount.isdecimal(): \n",
        "      amount = int(amount)\n",
        "      if MIN_BET <= amount <= MAX_BET:   \n",
        "        break\n",
        "      else: print(\"Please enter a number between {MIN_BET} and {MAX_BET}\")\n",
        "    else: print(\"Please enter a number\")\n",
        "  return amount "
      ],
      "metadata": {
        "id": "RFm9W87gbZ-O"
      },
      "execution_count": 5,
      "outputs": []
    },
    {
      "cell_type": "code",
      "source": [
        "def spin_slots(rows, cols, symbol_count):\n",
        "  symbols = []\n",
        "  for symbol, count in symbol_count.items():\n",
        "    for count in range(count):\n",
        "      symbols.append(symbol)\n",
        "\n",
        "  matrix = []\n",
        "  for col in range(cols):\n",
        "    symbols_copy = symbols[:]   # ['A', 'A', 'B', 'B', 'B', 'B', 'C', 'C', 'C', 'C', 'C', 'C', 'D', 'D', 'D', 'D', 'D', 'D', 'D', 'D']\n",
        "    symbols_list = []\n",
        "    for row in range(rows):\n",
        "      symbol_chosen = rd.choice(symbols_copy)\n",
        "      symbols_copy.remove(symbol_chosen)\n",
        "      symbols_list.append(symbol_chosen)\n",
        "    matrix.append(symbols_list)  \n",
        "    \n",
        "  return matrix   # [['C', 'D', 'D'], ['D', 'D', 'D'], ['A', 'B', 'D']]"
      ],
      "metadata": {
        "id": "o_SYgGjQbiEu"
      },
      "execution_count": 7,
      "outputs": []
    },
    {
      "cell_type": "code",
      "source": [
        "def print_slots(matrix):\n",
        "  for row in range(len(matrix[0])): # 첫번쨰 column 의 길이에서 row 길이를 정함 \n",
        "    for i, column in enumerate(matrix):\n",
        "      if i != len(matrix) - 1:\n",
        "        print(column[row], end=\" | \")\n",
        "      else:   \n",
        "        print(column[row])"
      ],
      "metadata": {
        "id": "MPXtsXMobr2h"
      },
      "execution_count": 8,
      "outputs": []
    },
    {
      "cell_type": "code",
      "source": [
        "def check_winnings(lines, matrix, symbol_spray, bet):\n",
        "  winnings = 0\n",
        "  lines_winning = []\n",
        "\n",
        "  for line in range(lines):\n",
        "    symbol = matrix[0][line]\n",
        "    for column in matrix:\n",
        "      symbol_to_check = column[line]\n",
        "      if symbol != symbol_to_check:\n",
        "        break\n",
        "      else:\n",
        "        winnings += symbol_spray[symbol] * bet\n",
        "        lines_winning.append(line+1)\n",
        "\n",
        "  return winnings, lines_winning"
      ],
      "metadata": {
        "id": "-O6bttzGbuvi"
      },
      "execution_count": 10,
      "outputs": []
    },
    {
      "cell_type": "code",
      "source": [
        "def play(balance):\n",
        "  lines = get_lines()\n",
        "\n",
        "  while True:\n",
        "    bet = get_bet()\n",
        "    bet_total = bet * lines\n",
        "    if balance < bet_total:\n",
        "      print(f\"You have ${balance}. You can't bet ${bet}\")\n",
        "    else: \n",
        "      break\n",
        "\n",
        "  matrix = spin_slots(ROWS, COLS, SYMBOL_COUNT)\n",
        "  print_slots(matrix)\n",
        "  winnings, lines_winning = check_winnings(lines, matrix, SYMBOL_SPRAY, bet)\n",
        "  print(winnings, *lines_winning)\n",
        "  return winnings - bet_total"
      ],
      "metadata": {
        "id": "fWoB9P4qb67d"
      },
      "execution_count": 11,
      "outputs": []
    },
    {
      "cell_type": "code",
      "execution_count": 12,
      "metadata": {
        "colab": {
          "base_uri": "https://localhost:8080/"
        },
        "id": "wz_edC46N-KC",
        "outputId": "50c764e8-bf6e-406a-f6eb-71b8c3fc7aa7"
      },
      "outputs": [
        {
          "output_type": "stream",
          "name": "stdout",
          "text": [
            "How much would you like to deposit? $100\n",
            "Balance: $100\n",
            "Press enter to play (or q to quit)\n",
            "Enter the number of lines to bet on between 1 and 3: 1\n",
            "How much would you like to bet on each line? $10\n",
            "D | D | B\n",
            "C | C | A\n",
            "D | B | D\n",
            "40 1 1\n",
            "Balance: $130\n",
            "Press enter to play (or q to quit)\n",
            "Enter the number of lines to bet on between 1 and 3: 2\n",
            "How much would you like to bet on each line? $10\n",
            "C | A | D\n",
            "D | D | C\n",
            "D | D | D\n",
            "70 1 2 2\n",
            "Balance: $180\n",
            "Press enter to play (or q to quit)\n",
            "Enter the number of lines to bet on between 1 and 3: 3\n",
            "How much would you like to bet on each line? $10\n",
            "D | C | D\n",
            "A | B | B\n",
            "C | D | C\n",
            "100 1 2 3\n",
            "Balance: $250\n",
            "Press enter to play (or q to quit)q\n",
            "You're left with $250\n"
          ]
        }
      ],
      "source": [
        "def main():\n",
        "  balance = deposit()\n",
        "  while True:\n",
        "    print(f'Balance: ${balance}')\n",
        "    res = input('Press enter to play (or q to quit)')\n",
        "    if res == 'q':\n",
        "      break \n",
        "    balance += play(balance)\n",
        "  print(f\"You're left with ${balance}\")\n",
        "  \n",
        "main()"
      ]
    }
  ]
}