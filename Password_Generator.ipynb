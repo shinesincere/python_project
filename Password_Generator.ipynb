{
  "nbformat": 4,
  "nbformat_minor": 0,
  "metadata": {
    "colab": {
      "provenance": [],
      "authorship_tag": "ABX9TyPnVdW6xlS/aA01joLrNhcp"
    },
    "kernelspec": {
      "name": "python3",
      "display_name": "Python 3"
    },
    "language_info": {
      "name": "python"
    }
  },
  "cells": [
    {
      "cell_type": "code",
      "execution_count": 21,
      "metadata": {
        "colab": {
          "base_uri": "https://localhost:8080/"
        },
        "id": "_nPz7-v9lw1d",
        "outputId": "4869ae04-2a0a-4335-abfe-db25187b2fbc"
      },
      "outputs": [
        {
          "output_type": "stream",
          "name": "stdout",
          "text": [
            "Do you want to generate a password? Enter 'Y' for yes, or 'N' for no: u\n",
            "Invalid input, please enter 'Y' for yes, or 'N' for no.  \n",
            "\n",
            "Do you want to generate a password? Enter 'Y' for yes, or 'N' for no: y\n",
            "How long would you like your password to be?  12\n",
            "hfLJ)fqygq9y \n",
            " \n",
            "Do you want to generate a password? Enter 'Y' for yes, or 'N' for no: y\n",
            "How long would you like your password to be?  20\n",
            "0^TP9fFGzj2slBf*oSXe \n",
            " \n",
            "Do you want to generate a password? Enter 'Y' for yes, or 'N' for no: y\n",
            "How long would you like your password to be?  24\n",
            "FUAch4lW)tz4Vy)Aj!^EQV#^ \n",
            " \n",
            "Do you want to generate a password? Enter 'Y' for yes, or 'N' for no: n\n",
            "Program ended\n"
          ]
        }
      ],
      "source": [
        "import string, random\n",
        "\n",
        "def generate_password():\n",
        "  length = int(input(\"How long would you like your password to be?  \"))\n",
        "  \n",
        "  characters = list(string.ascii_letters + string.digits + \"!@#$%^&*()\")\n",
        "  random.shuffle(characters)\n",
        "  \n",
        "  password = []\n",
        "  for e in range(length):\n",
        "    password.append(random.choice(characters))\n",
        "  random.shuffle(characters)\n",
        "  print(f\"{''.join(password)} \\n \")  \n",
        "\n",
        "def ask_user():\n",
        "  while True:\n",
        "    res = input(\"Do you want to generate a password? Enter 'Y' for yes, or 'N' for no: \")\n",
        "    if res == \"Y\" or res == \"y\":\n",
        "      generate_password()\n",
        "    elif res == \"N\" or res == \"n\":\n",
        "      print(\"Program ended\")\n",
        "      break\n",
        "    else: \n",
        "      print(\"Invalid input, please enter 'Y' for yes, or 'N' for no.  \\n\")     \n",
        "\n",
        "ask_user() "
      ]
    }
  ]
}